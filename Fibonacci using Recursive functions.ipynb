{
 "cells": [
  {
   "cell_type": "code",
   "execution_count": 1,
   "id": "c45681f2",
   "metadata": {},
   "outputs": [
    {
     "name": "stdout",
     "output_type": "stream",
     "text": [
      "Enter the number of iterations in Fibonacci Series: 5\n",
      "0\n",
      "1\n",
      "1\n",
      "2\n",
      "3\n"
     ]
    }
   ],
   "source": [
    "#Fibonacci using Recursive functions\n",
    "def fibonacci_recursive(n):\n",
    "    if n>1:\n",
    "        return(fibonacci_recursive(n-2)+fibonacci_recursive(n-1))\n",
    "        # function is called in the function itself.\n",
    "        # Hence it is recursive function\n",
    "    if n<=1:\n",
    "        return n\n",
    "    \n",
    "fibo_num=int(input(\"Enter the number of iterations in Fibonacci Series: \"))\n",
    "for i in range(fibo_num):\n",
    "    print(fibonacci_recursive(i))\n"
   ]
  },
  {
   "cell_type": "code",
   "execution_count": null,
   "id": "41c2f04d",
   "metadata": {},
   "outputs": [],
   "source": []
  },
  {
   "cell_type": "code",
   "execution_count": null,
   "id": "398374ca",
   "metadata": {},
   "outputs": [],
   "source": []
  }
 ],
 "metadata": {
  "kernelspec": {
   "display_name": "Python 3 (ipykernel)",
   "language": "python",
   "name": "python3"
  },
  "language_info": {
   "codemirror_mode": {
    "name": "ipython",
    "version": 3
   },
   "file_extension": ".py",
   "mimetype": "text/x-python",
   "name": "python",
   "nbconvert_exporter": "python",
   "pygments_lexer": "ipython3",
   "version": "3.9.12"
  }
 },
 "nbformat": 4,
 "nbformat_minor": 5
}
