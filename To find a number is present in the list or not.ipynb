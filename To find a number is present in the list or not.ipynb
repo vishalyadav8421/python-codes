{
 "cells": [
  {
   "cell_type": "code",
   "execution_count": null,
   "id": "f013ecc8",
   "metadata": {},
   "outputs": [],
   "source": [
    "# To find a number in a list whether it is present or not.\n",
    "search_num=int(input('Enter the number you want to find in the list : '))\n",
    "num_list=[5,8,9,6,3]\n",
    "if sarch_num in numlist:\n",
    "    print('Entered number is present in the list')\n",
    "else:\n",
    "    print('Entered number is not present in the list')"
   ]
  }
 ],
 "metadata": {
  "kernelspec": {
   "display_name": "Python 3 (ipykernel)",
   "language": "python",
   "name": "python3"
  },
  "language_info": {
   "codemirror_mode": {
    "name": "ipython",
    "version": 3
   },
   "file_extension": ".py",
   "mimetype": "text/x-python",
   "name": "python",
   "nbconvert_exporter": "python",
   "pygments_lexer": "ipython3",
   "version": "3.9.12"
  }
 },
 "nbformat": 4,
 "nbformat_minor": 5
}
